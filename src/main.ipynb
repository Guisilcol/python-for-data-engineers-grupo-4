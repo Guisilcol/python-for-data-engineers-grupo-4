{
 "cells": [
  {
   "cell_type": "code",
   "execution_count": null,
   "metadata": {},
   "outputs": [],
   "source": [
    "#COMMIT DA AULA 3\n",
    "\n",
    "import pandas as pd \n",
    "from modules.operations import Operations as op\n",
    "from modules.specific_operations import SpecificOperations as sop\n",
    "from modules.config import Config as config\n",
    "from modules.bibtex_reader import BibtexReader \n",
    "from modules.folder_reader import FolderReader\n",
    "from modules.sqlite3_loader import Sqlite3Handler\n",
    "from modules.ieee_api_handler import IeeeApiHandler\n",
    "from modules.science_direct_api_handler import ScienceDirectApiHandler\n",
    "\n",
    "OUTPUT_FOLDER = './output'\n",
    "CONFIG_FILEPATH = './config.yaml'\n",
    "\n",
    "JCS_INPUT_FILEPATH = \"./data/jcs_2020.csv\"\n",
    "SCIMAGO_INPUT_FILEPATH = \"./data/scimagojr 2020.csv\"\n",
    "\n",
    "ACM_INPUT_FOLDER = \"./data/acm\"\n",
    "IEEE_INPUT_FOLDER = \"./data/ieee\"\n",
    "SCIENCE_INPUT_FOLDER = \"./data/science_direct\"\n",
    "\n",
    "DB_FILEPATH = ':memory:'\n",
    "OUTPUT_DB_FILEPATH = './output/db.sqlite3'\n",
    "\n",
    "CONFIG = config.get_config(CONFIG_FILEPATH)"
   ]
  },
  {
   "cell_type": "markdown",
   "metadata": {},
   "source": [
    "# Extração"
   ]
  },
  {
   "cell_type": "code",
   "execution_count": null,
   "metadata": {},
   "outputs": [],
   "source": [
    "DF_ACM = BibtexReader.read_files_to_dataframe(\n",
    "    FolderReader.get_filepaths_from_folder(ACM_INPUT_FOLDER)\n",
    ")\n",
    "\n",
    "DF_IEEE = BibtexReader.read_files_to_dataframe(\n",
    "    FolderReader.get_filepaths_from_folder(IEEE_INPUT_FOLDER)\n",
    ")\n",
    "\n",
    "DF_SD = BibtexReader.read_files_to_dataframe(\n",
    "    FolderReader.get_filepaths_from_folder(SCIENCE_INPUT_FOLDER)\n",
    ")\n",
    "\n",
    "DF_JCS = pd.read_csv(JCS_INPUT_FILEPATH, sep=\";\")\n",
    "\n",
    "DF_SCIMAGO = pd.read_csv(SCIMAGO_INPUT_FILEPATH, sep=\";\", low_memory=False)"
   ]
  },
  {
   "cell_type": "markdown",
   "metadata": {},
   "source": [
    "# Transformação - Tratamento dos bibtex"
   ]
  },
  {
   "cell_type": "code",
   "execution_count": null,
   "metadata": {},
   "outputs": [],
   "source": [
    "df_acm = (DF_ACM\n",
    "          .convert_dtypes()\n",
    "          .pipe(op.map, [\"author\", \"title\", \"keywords\", \"abstract\", \"year\", \"ENTRYTYPE\", \"doi\", \"issn\", \"isbn\", \"journal\"])\n",
    "          .pipe(op.create_column, \"source\", str, \"acm\")\n",
    "          .pipe(op.rename_cols, {\n",
    "                \"ENTRYTYPE\": \"type_publication\"\n",
    "          })\n",
    "          .pipe(op.apply_to_every_row, function = lambda r: pd.NA if pd.isnull(r.issn) else r.issn.replace(\"-\", \"\"),\n",
    "                                         output_col = 'issn'))\n",
    "\n",
    "df_ieee = (DF_IEEE\n",
    "          .convert_dtypes()  \n",
    "          .pipe(op.map, [\"author\", \"title\", \"keywords\", \"abstract\", \"year\", \"ENTRYTYPE\", \"doi\", \"issn\", \"journal\"])\n",
    "          .pipe(op.create_column, \"isbn\", str, pd.NA)\n",
    "          .pipe(op.create_column, \"source\", str, \"ieee\")\n",
    "          .pipe(op.rename_cols, {\n",
    "                \"ENTRYTYPE\": \"type_publication\"\n",
    "          })\n",
    "          .pipe(op.apply_to_every_row, function = lambda r: pd.NA if pd.isnull(r.issn) else r.issn.replace(\"-\", \"\"),\n",
    "                                       output_col = 'issn'))\n",
    "\n",
    "df_sd = (DF_SD\n",
    "          .convert_dtypes()  \n",
    "          .pipe(op.map, [\"author\", \"title\", \"keywords\", \"abstract\", \"year\", \"ENTRYTYPE\", \"doi\", \"issn\", \"isbn\", \"journal\"])\n",
    "          .pipe(op.create_column, \"source\", str, \"science direct\")\n",
    "          .pipe(op.rename_cols, {\n",
    "                \"ENTRYTYPE\": \"type_publication\"})\n",
    "          .pipe(op.apply_to_every_row, function = lambda r: pd.NA if pd.isnull(r.issn) else r.issn.replace(\"-\", \"\"),\n",
    "                                         output_col = 'issn'))"
   ]
  },
  {
   "cell_type": "markdown",
   "metadata": {},
   "source": [
    "# Transformação - JCS e SCIMAGO"
   ]
  },
  {
   "cell_type": "code",
   "execution_count": 16,
   "metadata": {},
   "outputs": [
    {
     "name": "stderr",
     "output_type": "stream",
     "text": [
      "d:\\Projetos\\milho-musics-discord-bot\\python-for-data-engineers-grupo-4\\src\\modules\\specific_operations.py:70: FutureWarning: The default value of regex will change from True to False in a future version.\n",
      "  .str.replace(r\"([^A-Za-z0-9]+)\", \"\")\\\n",
      "d:\\Projetos\\milho-musics-discord-bot\\python-for-data-engineers-grupo-4\\src\\modules\\specific_operations.py:70: FutureWarning: The default value of regex will change from True to False in a future version.\n",
      "  .str.replace(r\"([^A-Za-z0-9]+)\", \"\")\\\n",
      "d:\\Projetos\\milho-musics-discord-bot\\python-for-data-engineers-grupo-4\\src\\modules\\specific_operations.py:70: FutureWarning: The default value of regex will change from True to False in a future version.\n",
      "  .str.replace(r\"([^A-Za-z0-9]+)\", \"\")\\\n"
     ]
    }
   ],
   "source": [
    "df_bibtex = pd.concat([df_acm, df_ieee, df_sd])\n",
    "df_bibtex = df_bibtex.convert_dtypes()\n",
    "df_bibtex = df_bibtex.drop_duplicates()\n",
    "df_bibtex[\"journal_title_key\"] = df_bibtex[\"journal\"].pipe(sop.generate_key_with_journal_name)  # type: ignore\n",
    "\n",
    "\n",
    "\n",
    "################################ SCIMAGO ################################\n",
    "df_scimago = DF_SCIMAGO.convert_dtypes()\n",
    "df_scimago = df_scimago[['Issn', 'Title', 'SJR']]\n",
    "df_scimago = df_scimago.rename(columns={'SJR': 'scimago_value', 'Issn': 'issn', 'Title': 'title'})\n",
    "df_scimago[\"journal_title_key\"] = df_scimago[\"title\"].pipe(sop.generate_key_with_journal_name)  # type: ignore\n",
    "\n",
    "df_scimago[\"scimago_value\"] = df_scimago.scimago_value.astype(\"string\")\\\n",
    "                                                      .str.replace(\",\", \".\")\n",
    "\n",
    "\n",
    "################################ JCS ################################\n",
    "df_jcs = DF_JCS.convert_dtypes()\n",
    "df_jcs = df_jcs[[\"Full Journal Title\", \"Journal Impact Factor\"]]\n",
    "df_jcs = df_jcs.rename(columns={\"Full Journal Title\": \"title\", \"Journal Impact Factor\": \"jcs_value\"})\n",
    "df_jcs[\"journal_title_key\"] = df_jcs[\"title\"].pipe(sop.generate_key_with_journal_name)  # type: ignore\n",
    "\n",
    "\n",
    "################################ JOIN ENTRE SCIMAGO E JCS -> df_journal ################################\n",
    "\n",
    "df_journal = pd.merge(left=df_scimago, right=df_jcs, left_on=[\"journal_title_key\"], right_on=[\"journal_title_key\"], how=\"outer\") \n",
    "\n",
    "df_journal[\"title\"] = df_journal[\"title_x\"].mask(pd.isnull(df_journal[\"title_x\"]), df_journal[\"title_y\"])\n",
    "\n",
    "df_journal = df_journal[['title', \"issn\", \"journal_title_key\", \"scimago_value\", \"jcs_value\"]]\n",
    "df_journal = df_journal.rename(columns={\"issn\": \"issn_journal\"})\n",
    "\n",
    "df_journal[\"issn_journal\"] = df_journal[\"issn_journal\"].mask(pd.isnull(df_journal[\"issn_journal\"]), '-')\n",
    "\n",
    "df_journal[\"upper_title\"] = df_journal[\"title\"].str.upper().str.strip()\n",
    "\n",
    "df_journal = df_journal.drop_duplicates()\n",
    "\n",
    "df_regex_groups = df_journal['issn_journal'].str.split(pat=\",\", n=3, expand=True)\n",
    "df_journal['issn_1'] = df_regex_groups.loc[:, 0]\n",
    "df_journal['issn_2'] = df_regex_groups.loc[:, 1]\n",
    "df_journal['issn_3'] = df_regex_groups.loc[:, 2]\n",
    "\n",
    "df_journal['issn_1'] = df_journal['issn_1'].mask(df_journal[\"issn_1\"] == '-')\n",
    "df_journal['issn_2'] = df_journal['issn_2'].mask(df_journal[\"issn_2\"] == '-')\n",
    "df_journal['issn_3'] = df_journal['issn_3'].mask(df_journal[\"issn_3\"] == '-')\n",
    "\n",
    "df_journal = df_journal.drop_duplicates()\n",
    "\n",
    "# Joins entre os bibtex e jcr/scimago\n",
    "CONNECTION = Sqlite3Handler.get_connection(DB_FILEPATH)\n",
    "Sqlite3Handler.load_dataframe_to_db(df_bibtex, connection = CONNECTION, table_name = 'df_bibtex', if_exists = 'replace')\n",
    "Sqlite3Handler.load_dataframe_to_db(df_journal, connection = CONNECTION, table_name = 'df_journal', if_exists = 'replace')\n",
    "Sqlite3Handler.create_index(CONNECTION, \"idx_df_bibtex_1\", \"df_bibtex\", [\"issn\"])\n",
    "Sqlite3Handler.create_index(CONNECTION, \"idx_df_bibtex_2\", \"df_bibtex\", [\"journal_title_key\"])\n",
    "Sqlite3Handler.create_index(CONNECTION, \"idx_df_journal_1\", \"df_journal\", [\"issn_1\"])\n",
    "Sqlite3Handler.create_index(CONNECTION, \"idx_df_journal_2\", \"df_journal\", [\"issn_2\"])\n",
    "Sqlite3Handler.create_index(CONNECTION, \"idx_df_journal_3\", \"df_journal\", [\"issn_3\"])\n",
    "Sqlite3Handler.create_index(CONNECTION, \"idx_df_journal_4\", \"df_journal\", [\"journal_title_key\"])\n",
    "\n",
    "df_final = Sqlite3Handler.read_df_from_sql(CONNECTION, \"\"\"--sql\n",
    "      SELECT DISTINCT\n",
    "            bib.author\n",
    "            ,bib.title\n",
    "            ,bib.keywords\n",
    "            ,bib.abstract\n",
    "            ,bib.year\n",
    "            ,bib.type_publication\n",
    "            ,bib.doi\n",
    "            ,bib.issn\n",
    "            ,COALESCE(bib.journal, jor.title) journal\n",
    "            ,bib.source\n",
    "            ,jor.scimago_value\n",
    "            ,jor.jcs_value\n",
    "      FROM \n",
    "            df_bibtex bib\n",
    "            LEFT JOIN df_journal jor\n",
    "                  ON (bib.issn = jor.issn_1\n",
    "                  OR bib.issn = jor.issn_2\n",
    "                  OR bib.issn = jor.issn_3\n",
    "                  OR bib.journal_title_key = jor.journal_title_key)\n",
    "                  AND NOT (bib.issn is null and bib.journal is null);\n",
    "                  \n",
    "\"\"\")\n",
    "\n",
    "CONNECTION.close()\n",
    "\n",
    "# Carga dos dados\n",
    "OUTPUT_CONNECTION = Sqlite3Handler.get_connection(OUTPUT_DB_FILEPATH)\n",
    "\n",
    "df_final = df_final.drop_duplicates(subset=[\"title\", \"year\"])\n",
    "\n",
    "(df_final\n",
    "      .pipe(sop.filter_column_by_regex, CONFIG)\n",
    "      #.pipe(sop.export_dataframe, CONFIG, OUTPUT_FOLDER) // Anteriormente os dados precisavam ser salvos em arquivos, agora os dados serão carregados em um banco de dados SQLITE3\n",
    "      .pipe(Sqlite3Handler.load_dataframe_to_db, \n",
    "            connection = OUTPUT_CONNECTION, \n",
    "            table_name = 't_bibtex_extraidos_manualmente', \n",
    "            if_exists = 'append')\n",
    ")\n",
    "\n",
    "OUTPUT_CONNECTION.close()"
   ]
  },
  {
   "cell_type": "markdown",
   "metadata": {},
   "source": [
    "# Transformação - API's IEEE e Science Direct"
   ]
  },
  {
   "cell_type": "code",
   "execution_count": null,
   "metadata": {},
   "outputs": [],
   "source": [
    "\n",
    "science_direct_responses = ScienceDirectApiHandler.get_data(CONFIG.get(\"science_direct_api_config\", {}))\n",
    "sd_api_df = ScienceDirectApiHandler.parse_response_to_dataframe(science_direct_responses)\n",
    "\n",
    "ieee_responses = IeeeApiHandler.get_data(CONFIG.get(\"iee_api_config\", {}))\n",
    "ieee_api_df = IeeeApiHandler.parse_response_to_dataframe(ieee_responses).drop_duplicates()\n",
    "\n",
    "OUTPUT_CONNECTION = Sqlite3Handler.get_connection(OUTPUT_DB_FILEPATH)\n",
    "\n",
    "Sqlite3Handler.load_dataframe_to_db(sd_api_df, OUTPUT_CONNECTION, \"t_api_science_direct\", \"append\")\n",
    "Sqlite3Handler.load_dataframe_to_db(ieee_api_df, OUTPUT_CONNECTION, \"t_api_ieee\", \"append\")\n"
   ]
  }
 ],
 "metadata": {
  "kernelspec": {
   "display_name": "Python 3.10.6 ('python-for-data-engineers-grupo-4-ulm3h1kw-py3.10')",
   "language": "python",
   "name": "python3"
  },
  "language_info": {
   "codemirror_mode": {
    "name": "ipython",
    "version": 3
   },
   "file_extension": ".py",
   "mimetype": "text/x-python",
   "name": "python",
   "nbconvert_exporter": "python",
   "pygments_lexer": "ipython3",
   "version": "3.10.6"
  },
  "orig_nbformat": 4,
  "vscode": {
   "interpreter": {
    "hash": "575d75f7e8f9ed96666a52f1798eae23af77e74cb7e727c844f51ed2a3086d8e"
   }
  }
 },
 "nbformat": 4,
 "nbformat_minor": 2
}
