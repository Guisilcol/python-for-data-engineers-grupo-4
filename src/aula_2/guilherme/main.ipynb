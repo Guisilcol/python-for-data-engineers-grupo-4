{
 "cells": [
  {
   "cell_type": "code",
   "execution_count": 4,
   "metadata": {},
   "outputs": [],
   "source": [
    "import pandas as pd \n",
    "import bibtexparser as bbp \n",
    "import operations as op\n",
    "import yaml\n",
    "\n",
    "ACM_DF = pd.DataFrame(bbp.load(open(\"../data/ACM.bib\", encoding=\"utf8\")).entries)\n",
    "IEE_DF = pd.DataFrame(bbp.load(open(\"../data/IEEE.bib\", encoding=\"utf8\")).entries)\n",
    "SCIENCE_DIRECT_DF = pd.DataFrame(bbp.load(open(\"../data/ScienceDirect.bib\", encoding=\"utf8\")).entries)\n",
    "\n",
    "OUTPUT_FOLDER = './output'\n",
    "\n",
    "CONFIG = yaml.load(open(\"./config.yaml\"), yaml.loader.SafeLoader)\n"
   ]
  },
  {
   "cell_type": "code",
   "execution_count": 5,
   "metadata": {},
   "outputs": [],
   "source": [
    "\n",
    "\n",
    "if CONFIG.get(\"export_format\") not in [\"json\", \"csv\", \"yaml\", \"xml\"]:\n",
    "    raise Exception(\"O formato de exportação especificado no arquivo de configuração .yaml não foi reconhecido (json, csv, yaml, xml)\")\n",
    "\n",
    "EXPORT_TYPE = CONFIG.get(\"export_format\")\n",
    "\n",
    "acm_df = (ACM_DF\n",
    "          .pipe(op.map, [\"author\", \"title\", \"keywords\", \"abstract\", \"year\", \"ENTRYTYPE\", \"doi\"])\n",
    "          .pipe(op.rename_cols, {\n",
    "                \"ENTRYTYPE\": \"type_publication\"\n",
    "          }))\n",
    "\n",
    "iee_df = (IEE_DF\n",
    "          .pipe(op.map, [\"author\", \"title\", \"keywords\", \"abstract\", \"year\", \"ENTRYTYPE\", \"doi\"])\n",
    "          .pipe(op.rename_cols, {\n",
    "                \"ENTRYTYPE\": \"type_publication\"\n",
    "          }))\n",
    "\n",
    "science_direct_df = (SCIENCE_DIRECT_DF\n",
    "          .pipe(op.map, [\"author\", \"title\", \"keywords\", \"abstract\", \"year\", \"ENTRYTYPE\", \"doi\"])\n",
    "          .pipe(op.rename_cols, {\n",
    "                \"ENTRYTYPE\": \"type_publication\"\n",
    "          }))\n",
    "\n",
    "if EXPORT_TYPE == \"json\":\n",
    "    acm_df.to_json(f\"{OUTPUT_FOLDER}/acm.json\", orient=\"records\")\n",
    "    iee_df.to_json(f\"{OUTPUT_FOLDER}/iee.json\", orient=\"records\")\n",
    "    science_direct_df.to_json(f\"{OUTPUT_FOLDER}/science_direct.json\", orient=\"records\")\n",
    "\n",
    "elif EXPORT_TYPE == \"csv\":\n",
    "    acm_df.to_csv(f\"{OUTPUT_FOLDER}/acm.csv\", index=False, sep=\"|\")\n",
    "    iee_df.to_csv(f\"{OUTPUT_FOLDER}/iee.csv\", index=False, sep=\"|\")\n",
    "    science_direct_df.to_csv(f\"{OUTPUT_FOLDER}/science_direct.csv\", index=False, sep=\"|\")\n",
    "\n",
    "elif EXPORT_TYPE == \"yaml\":\n",
    "    def to_yaml(df: pd.DataFrame, file_name: str):\n",
    "        open(f\"{OUTPUT_FOLDER}/{file_name}\", 'w').write(\n",
    "            yaml.dump(df.to_dict(orient=\"records\")))\n",
    "\n",
    "    to_yaml(acm_df, \"acm.yaml\")\n",
    "    to_yaml(iee_df, \"iee.yaml\")\n",
    "    to_yaml(science_direct_df, \"science_direct.yaml\")\n",
    "\n",
    "elif EXPORT_TYPE == \"xml\":\n",
    "    acm_df.to_xml(f\"{OUTPUT_FOLDER}/acm.xml\", index=False)\n",
    "    iee_df.to_xml(f\"{OUTPUT_FOLDER}/iee.xml\", index=False)\n",
    "    science_direct_df.to_xml(f\"{OUTPUT_FOLDER}/science_direct.xml\", index=False)\n",
    "    \n"
   ]
  }
 ],
 "metadata": {
  "kernelspec": {
   "display_name": "Python 3.10.6 ('data-general-use')",
   "language": "python",
   "name": "python3"
  },
  "language_info": {
   "codemirror_mode": {
    "name": "ipython",
    "version": 3
   },
   "file_extension": ".py",
   "mimetype": "text/x-python",
   "name": "python",
   "nbconvert_exporter": "python",
   "pygments_lexer": "ipython3",
   "version": "3.10.6"
  },
  "orig_nbformat": 4,
  "vscode": {
   "interpreter": {
    "hash": "af64f76d4237d73a53c45247d200abf844f577a2a4af58ec124f1f45f917ffa8"
   }
  }
 },
 "nbformat": 4,
 "nbformat_minor": 2
}
